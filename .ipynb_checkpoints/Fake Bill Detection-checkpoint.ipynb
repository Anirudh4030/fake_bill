{
 "cells": [
  {
   "cell_type": "markdown",
   "id": "e0315016-5a11-4118-b30c-859af9c2a00a",
   "metadata": {},
   "source": [
    "# Fake BILL Detection\n",
    "Fake Currency Detection is a real problem for both individuals and businesses. Counterfeiters are constantly finding new methods and techniques to produce counterfeit banknotes, which are essentially indistinguishable from real money. At least for the human eye. In this article, I will introduce you to Fake Currency Detection with Machine Learning.\n",
    "\n",
    "Fake Currency Detection is a task of binary classification in machine learning. If we have enough data on real and fake banknotes, we can use that data to train a model that can classify the new banknotes as real or fake."
   ]
  },
  {
   "cell_type": "code",
   "execution_count": 2,
   "id": "711202bf-f4c3-4d73-8f4d-cf03b7c696e8",
   "metadata": {},
   "outputs": [],
   "source": [
    "import numpy as np\n",
    "import pandas as pd\n",
    "import matplotlib.pyplot as plt\n",
    "import seaborn as sns\n",
    "import warnings\n",
    "from sklearn.model_selection import train_test_split\n",
    "from sklearn.tree import DecisionTreeClassifier\n",
    "from sklearn import tree\n",
    "from sklearn.metrics import classification_report\n",
    "from sklearn.preprocessing import LabelEncoder"
   ]
  },
  {
   "cell_type": "code",
   "execution_count": 3,
   "id": "ff894a4c-2a60-4489-9cb4-2dec9caeb761",
   "metadata": {},
   "outputs": [
    {
     "data": {
      "text/html": [
       "<div>\n",
       "<style scoped>\n",
       "    .dataframe tbody tr th:only-of-type {\n",
       "        vertical-align: middle;\n",
       "    }\n",
       "\n",
       "    .dataframe tbody tr th {\n",
       "        vertical-align: top;\n",
       "    }\n",
       "\n",
       "    .dataframe thead th {\n",
       "        text-align: right;\n",
       "    }\n",
       "</style>\n",
       "<table border=\"1\" class=\"dataframe\">\n",
       "  <thead>\n",
       "    <tr style=\"text-align: right;\">\n",
       "      <th></th>\n",
       "      <th>is_genuine</th>\n",
       "      <th>diagonal</th>\n",
       "      <th>height_left</th>\n",
       "      <th>height_right</th>\n",
       "      <th>margin_low</th>\n",
       "      <th>margin_up</th>\n",
       "      <th>length</th>\n",
       "    </tr>\n",
       "  </thead>\n",
       "  <tbody>\n",
       "    <tr>\n",
       "      <th>0</th>\n",
       "      <td>True</td>\n",
       "      <td>171.810000</td>\n",
       "      <td>104.860000</td>\n",
       "      <td>104.950000</td>\n",
       "      <td>4.520000</td>\n",
       "      <td>2.890000</td>\n",
       "      <td>112.830000</td>\n",
       "    </tr>\n",
       "    <tr>\n",
       "      <th>1</th>\n",
       "      <td>True</td>\n",
       "      <td>171.460000</td>\n",
       "      <td>103.360000</td>\n",
       "      <td>103.660000</td>\n",
       "      <td>3.770000</td>\n",
       "      <td>2.990000</td>\n",
       "      <td>113.090000</td>\n",
       "    </tr>\n",
       "    <tr>\n",
       "      <th>2</th>\n",
       "      <td>True</td>\n",
       "      <td>172.690000</td>\n",
       "      <td>104.480000</td>\n",
       "      <td>103.500000</td>\n",
       "      <td>4.400000</td>\n",
       "      <td>2.940000</td>\n",
       "      <td>113.160000</td>\n",
       "    </tr>\n",
       "    <tr>\n",
       "      <th>3</th>\n",
       "      <td>True</td>\n",
       "      <td>171.360000</td>\n",
       "      <td>103.910000</td>\n",
       "      <td>103.940000</td>\n",
       "      <td>3.620000</td>\n",
       "      <td>3.010000</td>\n",
       "      <td>113.510000</td>\n",
       "    </tr>\n",
       "    <tr>\n",
       "      <th>4</th>\n",
       "      <td>True</td>\n",
       "      <td>171.730000</td>\n",
       "      <td>104.280000</td>\n",
       "      <td>103.460000</td>\n",
       "      <td>4.040000</td>\n",
       "      <td>3.480000</td>\n",
       "      <td>112.540000</td>\n",
       "    </tr>\n",
       "    <tr>\n",
       "      <th>...</th>\n",
       "      <td>...</td>\n",
       "      <td>...</td>\n",
       "      <td>...</td>\n",
       "      <td>...</td>\n",
       "      <td>...</td>\n",
       "      <td>...</td>\n",
       "      <td>...</td>\n",
       "    </tr>\n",
       "    <tr>\n",
       "      <th>99995</th>\n",
       "      <td>True</td>\n",
       "      <td>172.591559</td>\n",
       "      <td>104.015133</td>\n",
       "      <td>103.564239</td>\n",
       "      <td>3.341976</td>\n",
       "      <td>2.809382</td>\n",
       "      <td>112.957642</td>\n",
       "    </tr>\n",
       "    <tr>\n",
       "      <th>99996</th>\n",
       "      <td>False</td>\n",
       "      <td>171.764889</td>\n",
       "      <td>103.901801</td>\n",
       "      <td>103.452420</td>\n",
       "      <td>4.242194</td>\n",
       "      <td>3.415704</td>\n",
       "      <td>111.716208</td>\n",
       "    </tr>\n",
       "    <tr>\n",
       "      <th>99997</th>\n",
       "      <td>True</td>\n",
       "      <td>171.411680</td>\n",
       "      <td>103.977614</td>\n",
       "      <td>104.128636</td>\n",
       "      <td>3.761649</td>\n",
       "      <td>3.520680</td>\n",
       "      <td>114.425646</td>\n",
       "    </tr>\n",
       "    <tr>\n",
       "      <th>99998</th>\n",
       "      <td>True</td>\n",
       "      <td>172.004731</td>\n",
       "      <td>103.780598</td>\n",
       "      <td>103.843138</td>\n",
       "      <td>4.969756</td>\n",
       "      <td>3.239390</td>\n",
       "      <td>113.431804</td>\n",
       "    </tr>\n",
       "    <tr>\n",
       "      <th>99999</th>\n",
       "      <td>False</td>\n",
       "      <td>172.267857</td>\n",
       "      <td>103.830293</td>\n",
       "      <td>104.222288</td>\n",
       "      <td>4.170786</td>\n",
       "      <td>3.427003</td>\n",
       "      <td>113.241476</td>\n",
       "    </tr>\n",
       "  </tbody>\n",
       "</table>\n",
       "<p>100000 rows × 7 columns</p>\n",
       "</div>"
      ],
      "text/plain": [
       "       is_genuine    diagonal  height_left  height_right  margin_low  \\\n",
       "0            True  171.810000   104.860000    104.950000    4.520000   \n",
       "1            True  171.460000   103.360000    103.660000    3.770000   \n",
       "2            True  172.690000   104.480000    103.500000    4.400000   \n",
       "3            True  171.360000   103.910000    103.940000    3.620000   \n",
       "4            True  171.730000   104.280000    103.460000    4.040000   \n",
       "...           ...         ...          ...           ...         ...   \n",
       "99995        True  172.591559   104.015133    103.564239    3.341976   \n",
       "99996       False  171.764889   103.901801    103.452420    4.242194   \n",
       "99997        True  171.411680   103.977614    104.128636    3.761649   \n",
       "99998        True  172.004731   103.780598    103.843138    4.969756   \n",
       "99999       False  172.267857   103.830293    104.222288    4.170786   \n",
       "\n",
       "       margin_up      length  \n",
       "0       2.890000  112.830000  \n",
       "1       2.990000  113.090000  \n",
       "2       2.940000  113.160000  \n",
       "3       3.010000  113.510000  \n",
       "4       3.480000  112.540000  \n",
       "...          ...         ...  \n",
       "99995   2.809382  112.957642  \n",
       "99996   3.415704  111.716208  \n",
       "99997   3.520680  114.425646  \n",
       "99998   3.239390  113.431804  \n",
       "99999   3.427003  113.241476  \n",
       "\n",
       "[100000 rows x 7 columns]"
      ]
     },
     "execution_count": 3,
     "metadata": {},
     "output_type": "execute_result"
    }
   ],
   "source": [
    "data = pd.read_csv('Fake_Bill.csv')\n",
    "data"
   ]
  },
  {
   "cell_type": "code",
   "execution_count": 4,
   "id": "2f6e6221-13a9-4e94-bff4-170a1b47ca63",
   "metadata": {},
   "outputs": [
    {
     "data": {
      "text/html": [
       "<div>\n",
       "<style scoped>\n",
       "    .dataframe tbody tr th:only-of-type {\n",
       "        vertical-align: middle;\n",
       "    }\n",
       "\n",
       "    .dataframe tbody tr th {\n",
       "        vertical-align: top;\n",
       "    }\n",
       "\n",
       "    .dataframe thead th {\n",
       "        text-align: right;\n",
       "    }\n",
       "</style>\n",
       "<table border=\"1\" class=\"dataframe\">\n",
       "  <thead>\n",
       "    <tr style=\"text-align: right;\">\n",
       "      <th></th>\n",
       "      <th>diagonal</th>\n",
       "      <th>height_left</th>\n",
       "      <th>height_right</th>\n",
       "      <th>margin_low</th>\n",
       "      <th>margin_up</th>\n",
       "      <th>length</th>\n",
       "    </tr>\n",
       "  </thead>\n",
       "  <tbody>\n",
       "    <tr>\n",
       "      <th>count</th>\n",
       "      <td>100000.000000</td>\n",
       "      <td>100000.000000</td>\n",
       "      <td>100000.000000</td>\n",
       "      <td>100000.000000</td>\n",
       "      <td>100000.000000</td>\n",
       "      <td>100000.000000</td>\n",
       "    </tr>\n",
       "    <tr>\n",
       "      <th>mean</th>\n",
       "      <td>171.959280</td>\n",
       "      <td>104.029881</td>\n",
       "      <td>103.921584</td>\n",
       "      <td>4.486212</td>\n",
       "      <td>3.151147</td>\n",
       "      <td>112.679641</td>\n",
       "    </tr>\n",
       "    <tr>\n",
       "      <th>std</th>\n",
       "      <td>0.304122</td>\n",
       "      <td>0.299834</td>\n",
       "      <td>0.325557</td>\n",
       "      <td>0.654879</td>\n",
       "      <td>0.232352</td>\n",
       "      <td>0.872345</td>\n",
       "    </tr>\n",
       "    <tr>\n",
       "      <th>min</th>\n",
       "      <td>170.660034</td>\n",
       "      <td>102.521828</td>\n",
       "      <td>102.534467</td>\n",
       "      <td>1.625760</td>\n",
       "      <td>2.121113</td>\n",
       "      <td>108.665042</td>\n",
       "    </tr>\n",
       "    <tr>\n",
       "      <th>25%</th>\n",
       "      <td>171.754553</td>\n",
       "      <td>103.827051</td>\n",
       "      <td>103.701768</td>\n",
       "      <td>4.046339</td>\n",
       "      <td>2.994318</td>\n",
       "      <td>112.088109</td>\n",
       "    </tr>\n",
       "    <tr>\n",
       "      <th>50%</th>\n",
       "      <td>171.958913</td>\n",
       "      <td>104.029509</td>\n",
       "      <td>103.922018</td>\n",
       "      <td>4.486351</td>\n",
       "      <td>3.151563</td>\n",
       "      <td>112.682444</td>\n",
       "    </tr>\n",
       "    <tr>\n",
       "      <th>75%</th>\n",
       "      <td>172.163227</td>\n",
       "      <td>104.231079</td>\n",
       "      <td>104.142272</td>\n",
       "      <td>4.926250</td>\n",
       "      <td>3.307844</td>\n",
       "      <td>113.269398</td>\n",
       "    </tr>\n",
       "    <tr>\n",
       "      <th>max</th>\n",
       "      <td>173.229628</td>\n",
       "      <td>105.310169</td>\n",
       "      <td>105.245784</td>\n",
       "      <td>7.530362</td>\n",
       "      <td>4.116256</td>\n",
       "      <td>116.334995</td>\n",
       "    </tr>\n",
       "  </tbody>\n",
       "</table>\n",
       "</div>"
      ],
      "text/plain": [
       "            diagonal    height_left   height_right     margin_low  \\\n",
       "count  100000.000000  100000.000000  100000.000000  100000.000000   \n",
       "mean      171.959280     104.029881     103.921584       4.486212   \n",
       "std         0.304122       0.299834       0.325557       0.654879   \n",
       "min       170.660034     102.521828     102.534467       1.625760   \n",
       "25%       171.754553     103.827051     103.701768       4.046339   \n",
       "50%       171.958913     104.029509     103.922018       4.486351   \n",
       "75%       172.163227     104.231079     104.142272       4.926250   \n",
       "max       173.229628     105.310169     105.245784       7.530362   \n",
       "\n",
       "           margin_up         length  \n",
       "count  100000.000000  100000.000000  \n",
       "mean        3.151147     112.679641  \n",
       "std         0.232352       0.872345  \n",
       "min         2.121113     108.665042  \n",
       "25%         2.994318     112.088109  \n",
       "50%         3.151563     112.682444  \n",
       "75%         3.307844     113.269398  \n",
       "max         4.116256     116.334995  "
      ]
     },
     "execution_count": 4,
     "metadata": {},
     "output_type": "execute_result"
    }
   ],
   "source": [
    "data.describe()"
   ]
  },
  {
   "cell_type": "code",
   "execution_count": 5,
   "id": "7088d856-b5bc-4938-b1d3-500d3f309f5c",
   "metadata": {},
   "outputs": [
    {
     "name": "stdout",
     "output_type": "stream",
     "text": [
      "<class 'pandas.core.frame.DataFrame'>\n",
      "RangeIndex: 100000 entries, 0 to 99999\n",
      "Data columns (total 7 columns):\n",
      " #   Column        Non-Null Count   Dtype  \n",
      "---  ------        --------------   -----  \n",
      " 0   is_genuine    100000 non-null  bool   \n",
      " 1   diagonal      100000 non-null  float64\n",
      " 2   height_left   100000 non-null  float64\n",
      " 3   height_right  100000 non-null  float64\n",
      " 4   margin_low    100000 non-null  float64\n",
      " 5   margin_up     100000 non-null  float64\n",
      " 6   length        100000 non-null  float64\n",
      "dtypes: bool(1), float64(6)\n",
      "memory usage: 4.7 MB\n"
     ]
    }
   ],
   "source": [
    "data.info()"
   ]
  },
  {
   "cell_type": "code",
   "execution_count": 6,
   "id": "fa00bf37-da93-4b0b-8d63-8880ed2946a7",
   "metadata": {},
   "outputs": [
    {
     "data": {
      "text/html": [
       "<div>\n",
       "<style scoped>\n",
       "    .dataframe tbody tr th:only-of-type {\n",
       "        vertical-align: middle;\n",
       "    }\n",
       "\n",
       "    .dataframe tbody tr th {\n",
       "        vertical-align: top;\n",
       "    }\n",
       "\n",
       "    .dataframe thead th {\n",
       "        text-align: right;\n",
       "    }\n",
       "</style>\n",
       "<table border=\"1\" class=\"dataframe\">\n",
       "  <thead>\n",
       "    <tr style=\"text-align: right;\">\n",
       "      <th></th>\n",
       "      <th>is_genuine</th>\n",
       "      <th>diagonal</th>\n",
       "      <th>height_left</th>\n",
       "      <th>height_right</th>\n",
       "      <th>margin_low</th>\n",
       "      <th>margin_up</th>\n",
       "      <th>length</th>\n",
       "    </tr>\n",
       "  </thead>\n",
       "  <tbody>\n",
       "    <tr>\n",
       "      <th>0</th>\n",
       "      <td>True</td>\n",
       "      <td>171.81</td>\n",
       "      <td>104.86</td>\n",
       "      <td>104.95</td>\n",
       "      <td>4.52</td>\n",
       "      <td>2.89</td>\n",
       "      <td>112.83</td>\n",
       "    </tr>\n",
       "    <tr>\n",
       "      <th>1</th>\n",
       "      <td>True</td>\n",
       "      <td>171.46</td>\n",
       "      <td>103.36</td>\n",
       "      <td>103.66</td>\n",
       "      <td>3.77</td>\n",
       "      <td>2.99</td>\n",
       "      <td>113.09</td>\n",
       "    </tr>\n",
       "    <tr>\n",
       "      <th>2</th>\n",
       "      <td>True</td>\n",
       "      <td>172.69</td>\n",
       "      <td>104.48</td>\n",
       "      <td>103.50</td>\n",
       "      <td>4.40</td>\n",
       "      <td>2.94</td>\n",
       "      <td>113.16</td>\n",
       "    </tr>\n",
       "    <tr>\n",
       "      <th>3</th>\n",
       "      <td>True</td>\n",
       "      <td>171.36</td>\n",
       "      <td>103.91</td>\n",
       "      <td>103.94</td>\n",
       "      <td>3.62</td>\n",
       "      <td>3.01</td>\n",
       "      <td>113.51</td>\n",
       "    </tr>\n",
       "    <tr>\n",
       "      <th>4</th>\n",
       "      <td>True</td>\n",
       "      <td>171.73</td>\n",
       "      <td>104.28</td>\n",
       "      <td>103.46</td>\n",
       "      <td>4.04</td>\n",
       "      <td>3.48</td>\n",
       "      <td>112.54</td>\n",
       "    </tr>\n",
       "  </tbody>\n",
       "</table>\n",
       "</div>"
      ],
      "text/plain": [
       "   is_genuine  diagonal  height_left  height_right  margin_low  margin_up  \\\n",
       "0        True    171.81       104.86        104.95        4.52       2.89   \n",
       "1        True    171.46       103.36        103.66        3.77       2.99   \n",
       "2        True    172.69       104.48        103.50        4.40       2.94   \n",
       "3        True    171.36       103.91        103.94        3.62       3.01   \n",
       "4        True    171.73       104.28        103.46        4.04       3.48   \n",
       "\n",
       "   length  \n",
       "0  112.83  \n",
       "1  113.09  \n",
       "2  113.16  \n",
       "3  113.51  \n",
       "4  112.54  "
      ]
     },
     "execution_count": 6,
     "metadata": {},
     "output_type": "execute_result"
    }
   ],
   "source": [
    "data.head()"
   ]
  },
  {
   "cell_type": "code",
   "execution_count": 7,
   "id": "b8e65d5e-daef-447a-a946-c0d0cbe07b5d",
   "metadata": {},
   "outputs": [
    {
     "data": {
      "text/html": [
       "<div>\n",
       "<style scoped>\n",
       "    .dataframe tbody tr th:only-of-type {\n",
       "        vertical-align: middle;\n",
       "    }\n",
       "\n",
       "    .dataframe tbody tr th {\n",
       "        vertical-align: top;\n",
       "    }\n",
       "\n",
       "    .dataframe thead th {\n",
       "        text-align: right;\n",
       "    }\n",
       "</style>\n",
       "<table border=\"1\" class=\"dataframe\">\n",
       "  <thead>\n",
       "    <tr style=\"text-align: right;\">\n",
       "      <th></th>\n",
       "      <th>is_genuine</th>\n",
       "      <th>diagonal</th>\n",
       "      <th>height_left</th>\n",
       "      <th>height_right</th>\n",
       "      <th>margin_low</th>\n",
       "      <th>margin_up</th>\n",
       "      <th>length</th>\n",
       "    </tr>\n",
       "  </thead>\n",
       "  <tbody>\n",
       "    <tr>\n",
       "      <th>99995</th>\n",
       "      <td>True</td>\n",
       "      <td>172.591559</td>\n",
       "      <td>104.015133</td>\n",
       "      <td>103.564239</td>\n",
       "      <td>3.341976</td>\n",
       "      <td>2.809382</td>\n",
       "      <td>112.957642</td>\n",
       "    </tr>\n",
       "    <tr>\n",
       "      <th>99996</th>\n",
       "      <td>False</td>\n",
       "      <td>171.764889</td>\n",
       "      <td>103.901801</td>\n",
       "      <td>103.452420</td>\n",
       "      <td>4.242194</td>\n",
       "      <td>3.415704</td>\n",
       "      <td>111.716208</td>\n",
       "    </tr>\n",
       "    <tr>\n",
       "      <th>99997</th>\n",
       "      <td>True</td>\n",
       "      <td>171.411680</td>\n",
       "      <td>103.977614</td>\n",
       "      <td>104.128636</td>\n",
       "      <td>3.761649</td>\n",
       "      <td>3.520680</td>\n",
       "      <td>114.425646</td>\n",
       "    </tr>\n",
       "    <tr>\n",
       "      <th>99998</th>\n",
       "      <td>True</td>\n",
       "      <td>172.004731</td>\n",
       "      <td>103.780598</td>\n",
       "      <td>103.843138</td>\n",
       "      <td>4.969756</td>\n",
       "      <td>3.239390</td>\n",
       "      <td>113.431804</td>\n",
       "    </tr>\n",
       "    <tr>\n",
       "      <th>99999</th>\n",
       "      <td>False</td>\n",
       "      <td>172.267857</td>\n",
       "      <td>103.830293</td>\n",
       "      <td>104.222288</td>\n",
       "      <td>4.170786</td>\n",
       "      <td>3.427003</td>\n",
       "      <td>113.241476</td>\n",
       "    </tr>\n",
       "  </tbody>\n",
       "</table>\n",
       "</div>"
      ],
      "text/plain": [
       "       is_genuine    diagonal  height_left  height_right  margin_low  \\\n",
       "99995        True  172.591559   104.015133    103.564239    3.341976   \n",
       "99996       False  171.764889   103.901801    103.452420    4.242194   \n",
       "99997        True  171.411680   103.977614    104.128636    3.761649   \n",
       "99998        True  172.004731   103.780598    103.843138    4.969756   \n",
       "99999       False  172.267857   103.830293    104.222288    4.170786   \n",
       "\n",
       "       margin_up      length  \n",
       "99995   2.809382  112.957642  \n",
       "99996   3.415704  111.716208  \n",
       "99997   3.520680  114.425646  \n",
       "99998   3.239390  113.431804  \n",
       "99999   3.427003  113.241476  "
      ]
     },
     "execution_count": 7,
     "metadata": {},
     "output_type": "execute_result"
    }
   ],
   "source": [
    "data.tail()"
   ]
  },
  {
   "cell_type": "code",
   "execution_count": 8,
   "id": "d6a714c1-aa7b-4f4a-9ea6-97d2c7edc07c",
   "metadata": {},
   "outputs": [
    {
     "name": "stdout",
     "output_type": "stream",
     "text": [
      "<class 'pandas.core.frame.DataFrame'>\n",
      "(100000, 7)\n",
      "700000\n"
     ]
    }
   ],
   "source": [
    "print(type(data))\n",
    "print(data.shape)\n",
    "print(data.size)"
   ]
  },
  {
   "cell_type": "markdown",
   "id": "3bae3486-ff2b-44ac-b193-010625b7bd37",
   "metadata": {},
   "source": [
    "### EDA(Exploratory Data Analysis)\n",
    " - Check class distribution (fake vs. genuine bills).\n",
    "\n",
    " - Visualize feature distributions.\n",
    "\n",
    " - Check for correlations between features.\n",
    "\n"
   ]
  },
  {
   "cell_type": "code",
   "execution_count": 10,
   "id": "7aa0b934-d4d2-4793-a724-c54de42b265b",
   "metadata": {},
   "outputs": [
    {
     "data": {
      "text/plain": [
       "is_genuine      0\n",
       "diagonal        0\n",
       "height_left     0\n",
       "height_right    0\n",
       "margin_low      0\n",
       "margin_up       0\n",
       "length          0\n",
       "dtype: int64"
      ]
     },
     "execution_count": 10,
     "metadata": {},
     "output_type": "execute_result"
    }
   ],
   "source": [
    "data.isnull().sum()"
   ]
  },
  {
   "cell_type": "code",
   "execution_count": 11,
   "id": "bfbba3bc-e0d7-4f51-8569-3b6483b8da48",
   "metadata": {},
   "outputs": [
    {
     "data": {
      "text/plain": [
       "<Axes: >"
      ]
     },
     "execution_count": 11,
     "metadata": {},
     "output_type": "execute_result"
    },
    {
     "data": {
      "image/png": "[encoded data removed]",
      "text/plain": [
       "<Figure size 640x480 with 2 Axes>"
      ]
     },
     "metadata": {},
     "output_type": "display_data"
    }
   ],
   "source": [
    "#visualize data missing values using graph\n",
    "\n",
    "cols = data.columns\n",
    "colors = ['black','blue']\n",
    "sns.heatmap(data[cols].isnull(),cmap = sns.color_palette(colors),cbar = True)"
   ]
  },
  {
   "cell_type": "code",
   "execution_count": 12,
   "id": "df4cbaaa-8185-4c75-a6fb-6277d996bb15",
   "metadata": {},
   "outputs": [
    {
     "data": {
      "image/png": "[encoded data removed]",
      "text/plain": [
       "<Figure size 800x600 with 2 Axes>"
      ]
     },
     "metadata": {},
     "output_type": "display_data"
    }
   ],
   "source": [
    "import matplotlib.pyplot as plt\n",
    "import seaborn as sns\n",
    "import pandas as pd\n",
    "\n",
    "# Load the dataset\n",
    "Fake_Bill = pd.read_csv(\"Fake_Bill.csv\")  \n",
    "\n",
    "# Create subplots\n",
    "fig, axes = plt.subplots(2, 1, figsize=(8, 6), gridspec_kw={'height_ratios': [1, 3]})\n",
    "\n",
    "# Boxplot\n",
    "sns.boxplot(x=Fake_Bill[\"length\"], ax=axes[0], color='skyblue', width=0.5, orient='horizontal')\n",
    "axes[0].set_title(\"Boxplot\")\n",
    "axes[0].set_xlabel(\"Length\")\n",
    "\n",
    "# Histogram with KDE\n",
    "sns.histplot(Fake_Bill['length'], kde=True, ax=axes[1], color='purple', bins=30)\n",
    "axes[1].set_title(\"Histogram with KDE\")\n",
    "axes[1].set_xlabel(\"Length\")\n",
    "axes[1].set_ylabel(\"Frequency\")\n",
    "\n",
    "# Adjust layout\n",
    "plt.tight_layout()\n",
    "\n",
    "# Show plot\n",
    "plt.show()\n"
   ]
  },
  {
   "cell_type": "code",
   "execution_count": 13,
   "id": "6c115c3a-8070-4950-bdd3-6686a110f73e",
   "metadata": {},
   "outputs": [
    {
     "data": {
      "text/plain": [
       "0"
      ]
     },
     "execution_count": 13,
     "metadata": {},
     "output_type": "execute_result"
    }
   ],
   "source": [
    "data.duplicated().sum()"
   ]
  },
  {
   "cell_type": "code",
   "execution_count": 23,
   "id": "23b524a3-6b65-478a-8e03-5c7817598194",
   "metadata": {},
   "outputs": [
    {
     "data": {
      "image/png": "[encoded data removed]",
      "text/plain": [
       "<Figure size 600x400 with 1 Axes>"
      ]
     },
     "metadata": {},
     "output_type": "display_data"
    },
    {
     "data": {
      "image/png": "[encoded data removed]",
      "text/plain": [
       "<Figure size 800x600 with 2 Axes>"
      ]
     },
     "metadata": {},
     "output_type": "display_data"
    }
   ],
   "source": [
    "import matplotlib.pyplot as plt\n",
    "import seaborn as sns\n",
    "\n",
    "\n",
    "sns.set_style(\"darkgrid\")\n",
    "\n",
    "\n",
    "plt.figure(figsize=(6, 4))\n",
    "sns.countplot(x=data[\"is_genuine\"])\n",
    "plt.title(\"Class Distribution: Fake vs Genuine Bills\")\n",
    "plt.xlabel(\"Is Genuine\")\n",
    "plt.ylabel(\"Count\")\n",
    "plt.xticks(ticks=[0, 1], labels=[\"Fake\", \"Genuine\"])\n",
    "plt.show()\n",
    "\n",
    "plt.figure(figsize=(8, 6))\n",
    "sns.heatmap(data.corr(), annot=True, cmap=\"coolwarm\", fmt=\".2f\", linewidths=0.5)\n",
    "plt.title(\"Feature Correlation Heatmap\")\n",
    "plt.show()\n"
   ]
  },
  {
   "cell_type": "code",
   "execution_count": 25,
   "id": "85bf259b-c9a3-46ff-be2d-938a835ed152",
   "metadata": {},
   "outputs": [
    {
     "name": "stdout",
     "output_type": "stream",
     "text": [
      "is_genuine\n",
      "True     0.66659\n",
      "False    0.33341\n",
      "Name: proportion, dtype: float64\n"
     ]
    }
   ],
   "source": [
    "class_distribution = data['is_genuine'].value_counts(normalize=True)\n",
    "print(class_distribution)\n"
   ]
  },
  {
   "cell_type": "markdown",
   "id": "10ede4c2-2e75-45a8-b87b-2c6373881ab8",
   "metadata": {},
   "source": [
    "### Observations\n",
    "- No Missing Values,All 100,000 rows are complete\n",
    "- diagonal, height_left, height_right, margin_low, margin_up, and length have reasonable ranges\n",
    "- 66.66% of the bills are genuine, while 33.34% are fake.\n",
    "This indicates some class imbalance but not extreme"
   ]
  },
  {
   "cell_type": "markdown",
   "id": "af19cd63-c5c6-474b-8d81-d7d8c5e73dbf",
   "metadata": {},
   "source": [
    "### Class Distribution\n",
    "\n",
    " - The dataset appears to be balanced between fake and genuine bills, meaning we don’t have to worry about class imbalance issues.\n",
    "\n",
    "### Feature Correlations\n",
    "\n",
    " - height_left and height_right are highly correlated (~0.99), which makes sense as they represent similar dimensions.\n",
    "\n",
    " - diagonal and length have a moderate correlation (~0.7), which might be expected."
   ]
  },
  {
   "cell_type": "markdown",
   "id": "fa6793d4-897b-40a2-9d83-d251b487010d",
   "metadata": {},
   "source": [
    "### Next Steps: Data Preprocessing\n",
    "- Convert is_genuine from True/False to 1 (Genuine) / 0 (Fake).\n",
    "\n",
    "- Split the dataset into train (80%) and test (20%) sets.\n",
    "\n",
    "- Scale the features  before training."
   ]
  },
  {
   "cell_type": "code",
   "execution_count": 34,
   "id": "2770d550-319b-46ac-9531-e9bb0e39f886",
   "metadata": {},
   "outputs": [
    {
     "data": {
      "text/plain": [
       "((80000, 6), (20000, 6), (80000,), (20000,))"
      ]
     },
     "execution_count": 34,
     "metadata": {},
     "output_type": "execute_result"
    }
   ],
   "source": [
    "from sklearn.model_selection import train_test_split\n",
    "\n",
    "data[\"is_genuine\"] = data[\"is_genuine\"].astype(int)\n",
    "\n",
    "X = data.drop(columns=[\"is_genuine\"]) \n",
    "y = data[\"is_genuine\"]  \n",
    "\n",
    "\n",
    "X_train, X_test, y_train, y_test = train_test_split(X, y, test_size=0.2, random_state=42, stratify=y)\n",
    "\n",
    "X_train.shape, X_test.shape, y_train.shape, y_test.shape\n"
   ]
  },
  {
   "cell_type": "markdown",
   "id": "6bb66d26-d287-4a0d-a4b5-138b683ae64c",
   "metadata": {},
   "source": [
    "### Next Steps: Model Training\n",
    "\n",
    "- Train a Random Forest Classifier.\n",
    "\n",
    "- Tune hyperparameters for better accuracy.\n",
    "\n",
    "- Evaluate the model using accuracy, precision, recall, and F1-score"
   ]
  },
  {
   "cell_type": "code",
   "execution_count": 37,
   "id": "c509e924-a4e4-42d1-a5d4-c69e5cf67c61",
   "metadata": {},
   "outputs": [
    {
     "name": "stdout",
     "output_type": "stream",
     "text": [
      "0.6574\n",
      "              precision    recall  f1-score   support\n",
      "\n",
      "           0       0.36      0.04      0.07      6668\n",
      "           1       0.67      0.97      0.79     13332\n",
      "\n",
      "    accuracy                           0.66     20000\n",
      "   macro avg       0.52      0.50      0.43     20000\n",
      "weighted avg       0.57      0.66      0.55     20000\n",
      "\n"
     ]
    }
   ],
   "source": [
    "from sklearn.ensemble import RandomForestClassifier\n",
    "from sklearn.metrics import accuracy_score, classification_report\n",
    "\n",
    "\n",
    "rf_model = RandomForestClassifier(random_state=42, n_estimators=100)\n",
    "\n",
    "\n",
    "rf_model.fit(X_train, y_train)\n",
    "\n",
    "# Make predictions on the test set\n",
    "y_pred = rf_model.predict(X_test)\n",
    "\n",
    "# Evaluate model performance\n",
    "accuracy = accuracy_score(y_test, y_pred)\n",
    "report = classification_report(y_test, y_pred)\n",
    "\n",
    "print(accuracy)\n",
    "print(report)\n"
   ]
  },
  {
   "cell_type": "markdown",
   "id": "79336bd9-d9f7-48b5-bf4e-e3e63fb48204",
   "metadata": {},
   "source": [
    "### Model Evaluation\n",
    "Accuracy: 65.74% (not great, needs improvement)\n",
    "\n",
    "Precision & Recall Issues \n",
    "\n",
    "- Fake bills (Class 0) are poorly classified (36% precision, 4% recall).\n",
    "\n",
    "- Genuine bills (Class 1) are detected well (67% precision, 97% recall).\n",
    "\n",
    "This suggests the model is biased towards genuine bills, failing to detect fake bills properly.\n"
   ]
  },
  {
   "cell_type": "markdown",
   "id": "ac9eca49-9f6a-4a7b-a84e-58f3de3f3a31",
   "metadata": {},
   "source": [
    "### Improve Model Performance"
   ]
  },
  {
   "cell_type": "code",
   "execution_count": null,
   "id": "4c294825-9451-4dc4-bef4-34ba1f54fa26",
   "metadata": {},
   "outputs": [],
   "source": [
    "from sklearn.ensemble import RandomForestClassifier\n",
    "from sklearn.metrics import accuracy_score, classification_report\n",
    "\n",
    "# Optimize Random Forest with better parameters\n",
    "rf_optimized = RandomForestClassifier(\n",
    "    n_estimators=150,       # More trees for better learning\n",
    "    max_depth=20,           # Allow deeper trees for complex patterns\n",
    "    min_samples_split=4,    # Avoid overfitting by requiring 4 samples per split\n",
    "    class_weight=\"balanced\",# Handle class imbalance\n",
    "    n_jobs=-1,              # Use all CPU cores for faster training\n",
    "    random_state=42\n",
    ")\n",
    "\n",
    "# Train the optimized model\n",
    "rf_optimized.fit(X_train, y_train)\n",
    "\n",
    "# Make predictions\n",
    "y_pred_optimized = rf_optimized.predict(X_test)\n",
    "\n",
    "# Evaluate the improved model\n",
    "accuracy_optimized = accuracy_score(y_test, y_pred_optimized)\n",
    "report_optimized = classification_report(y_test, y_pred_optimized)\n",
    "\n",
    "print(f\"Optimized Model Accuracy: {accuracy_optimized * 100:.2f}%\")\n",
    "print(\"Classification Report:\\n\", report_optimized)\n"
   ]
  },
  {
   "cell_type": "markdown",
   "id": "ebb5f0d9-fd21-4fed-8c8a-a40ef5b3528c",
   "metadata": {},
   "source": [
    "### Analysis of Your Model’s Performance\n",
    " - Accuracy: 62.54% (Still low, needs improvement).\n",
    "\n",
    " - Fake Bills (Class 0) Detection is Poor:\n",
    "\n",
    " - Precision: 34% → Many false positives.\n",
    "\n",
    " - Recall: 13% → Model is missing most fake bills.\n",
    "\n",
    " - Genuine Bills (Class 1) are Detected Well:\n",
    "\n",
    " - Recall: 87% → Most genuine bills are correctly identified.\n",
    "\n",
    "This confirms that the model is biased toward genuine bills and struggles to detect fake ones."
   ]
  },
  {
   "cell_type": "markdown",
   "id": "85423c99-def9-4cb3-92d8-9cd8a1c23da4",
   "metadata": {},
   "source": [
    "### Step 1: Handle Class Imbalance with SMOTE\n",
    "SMOTE (Synthetic Minority Over-sampling Technique) will generate new fake bill samples to balance the dataset."
   ]
  },
  {
   "cell_type": "code",
   "execution_count": null,
   "id": "a6d77648-aa24-4cb6-a45d-f616738a1e1a",
   "metadata": {},
   "outputs": [],
   "source": [
    "from imblearn.over_sampling import SMOTE\n",
    "from sklearn.model_selection import train_test_split\n",
    "\n",
    "# Apply SMOTE to balance the dataset\n",
    "smote = SMOTE(sampling_strategy='auto', random_state=42)\n",
    "X_resampled, y_resampled = smote.fit_resample(X, y)\n",
    "\n",
    "# Split the new dataset\n",
    "X_train, X_test, y_train, y_test = train_test_split(X_resampled, y_resampled, test_size=0.2, random_state=42)\n",
    "\n",
    "print(\"New Training Set Size:\", X_train.shape)\n",
    "print(\"New Test Set Size:\", X_test.shape)\n"
   ]
  },
  {
   "cell_type": "code",
   "execution_count": null,
   "id": "80d9412f-17c0-45f0-9239-cbd6d45e3b33",
   "metadata": {},
   "outputs": [],
   "source": [
    "rf_smote = RandomForestClassifier(\n",
    "    n_estimators=150, max_depth=20, min_samples_split=4, \n",
    "    class_weight=\"balanced\", n_jobs=-1, random_state=42\n",
    ")\n",
    "\n",
    "rf_smote.fit(X_train, y_train)\n",
    "y_pred_smote = rf_smote.predict(X_test)\n",
    "\n",
    "# Evaluate again\n",
    "accuracy_smote = accuracy_score(y_test, y_pred_smote)\n",
    "report_smote = classification_report(y_test, y_pred_smote)\n",
    "\n",
    "print(f\"SMOTE Model Accuracy: {accuracy_smote * 100:.2f}%\")\n",
    "print(\"Classification Report:\\n\", report_smote)\n"
   ]
  },
  {
   "cell_type": "code",
   "execution_count": null,
   "id": "50451993-7c28-4112-884c-b050d2f19ad3",
   "metadata": {},
   "outputs": [],
   "source": [
    "X = df.drop(columns=[\"is_genuine\", \"height_right\"])  # Drop highly correlated feature\n"
   ]
  },
  {
   "cell_type": "code",
   "execution_count": null,
   "id": "14dff18f-26a0-4839-9c9d-5c723f0a1fdf",
   "metadata": {},
   "outputs": [],
   "source": [
    "\n",
    "# Apply SMOTE to balance the dataset\n",
    "smote = SMOTE(sampling_strategy='auto', random_state=42)\n",
    "X_resampled, y_resampled = smote.fit_resample(X, y)\n",
    "\n",
    "# Split the new dataset\n",
    "X_train, X_test, y_train, y_test = train_test_split(X_resampled, y_resampled, test_size=0.2, random_state=42)\n",
    "\n",
    "print(\"New Training Set Size:\", X_train.shape)\n",
    "print(\"New Test Set Size:\", X_test.shape)\n"
   ]
  },
  {
   "cell_type": "code",
   "execution_count": null,
   "id": "3070d96a-4b1a-4d40-bc46-268f872cef29",
   "metadata": {},
   "outputs": [],
   "source": [
    "rf_smote = RandomForestClassifier(\n",
    "    n_estimators=150, max_depth=20, min_samples_split=4, \n",
    "    class_weight=\"balanced\", n_jobs=-1, random_state=42\n",
    ")\n",
    "\n",
    "rf_smote.fit(X_train, y_train)\n",
    "y_pred_smote = rf_smote.predict(X_test)\n",
    "\n",
    "# Evaluate again\n",
    "accuracy_smote = accuracy_score(y_test, y_pred_smote)\n",
    "report_smote = classification_report(y_test, y_pred_smote)\n",
    "\n",
    "print(f\"SMOTE Model Accuracy: {accuracy_smote * 100:.2f}%\")\n",
    "print(\"Classification Report:\\n\", report_smote)\n"
   ]
  },
  {
   "cell_type": "code",
   "execution_count": null,
   "id": "705859af-2dcb-4114-80ce-7224a8ce751a",
   "metadata": {},
   "outputs": [],
   "source": [
    "from sklearn.model_selection import GridSearchCV\n",
    "\n",
    "param_grid = {\n",
    "    'n_estimators': [100, 200],\n",
    "    'max_depth': [10, 20],\n",
    "    'min_samples_split': [2, 4, 6]\n",
    "}\n",
    "\n",
    "grid_search = GridSearchCV(RandomForestClassifier(random_state=42), param_grid, cv=3, n_jobs=-1, verbose=2)\n",
    "grid_search.fit(X_train, y_train)\n",
    "\n",
    "print(\"Best Parameters:\", grid_search.best_params_)\n",
    "\n",
    "# Train with best parameters\n",
    "best_rf = grid_search.best_estimator_\n",
    "y_pred_best = best_rf.predict(X_test)\n",
    "\n",
    "# Evaluate final model\n",
    "accuracy_best = accuracy_score(y_test, y_pred_best)\n",
    "report_best = classification_report(y_test, y_pred_best)\n",
    "\n",
    "print(f\"Final Optimized Accuracy: {accuracy_best * 100:.2f}%\")\n",
    "print(\"Classification Report:\\n\", report_best)\n"
   ]
  },
  {
   "cell_type": "markdown",
   "id": "e9b752a3-65a5-48ae-a5e0-e469078a0c09",
   "metadata": {},
   "source": [
    "### Final optimized accuracy is 61.97%\n",
    "It is still not great. While GridSearchCV found better parameters, the recall for both classes is low, meaning the model struggles to differentiate between fake and real bills.\n",
    "\n",
    "Feature Selection is not optimized – Some features may not be useful.\n",
    "\n",
    "Imbalanced Data Issue – The model struggles to classify fake bills correctly.\n",
    "\n",
    "Random Forest Might Not Be the Best Model – Other models like XGBoost or SVM might work better."
   ]
  },
  {
   "cell_type": "code",
   "execution_count": null,
   "id": "648ba7ae-3004-4d8e-863e-767d846f9ac8",
   "metadata": {},
   "outputs": [],
   "source": [
    "!pip install flask pandas scikit-learn joblib\n"
   ]
  },
  {
   "cell_type": "code",
   "execution_count": 39,
   "id": "4a2744ae-ed8c-45de-a217-bb08c8649140",
   "metadata": {},
   "outputs": [
    {
     "name": "stdout",
     "output_type": "stream",
     "text": [
      "Model saved as model.pkl!\n"
     ]
    }
   ],
   "source": [
    "import joblib\n",
    "\n",
    "\n",
    "joblib.dump(rf_model, \"model.pkl\")\n",
    "\n",
    "print(\"Model saved as model.pkl!\")\n"
   ]
  },
  {
   "cell_type": "code",
   "execution_count": null,
   "id": "55deba5b-9707-4b2b-abe5-44bd413f700f",
   "metadata": {},
   "outputs": [],
   "source": []
  }
 ],
 "metadata": {
  "kernelspec": {
   "display_name": "Python [conda env:base] *",
   "language": "python",
   "name": "conda-base-py"
  },
  "language_info": {
   "codemirror_mode": {
    "name": "ipython",
    "version": 3
   },
   "file_extension": ".py",
   "mimetype": "text/x-python",
   "name": "python",
   "nbconvert_exporter": "python",
   "pygments_lexer": "ipython3",
   "version": "3.12.7"
  }
 },
 "nbformat": 4,
 "nbformat_minor": 5
}
