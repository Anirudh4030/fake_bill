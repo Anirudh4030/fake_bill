{
 "cells": [
  {
   "cell_type": "code",
   "execution_count": null,
   "id": "d2053c3e-887e-4258-9ad6-98fabfe998a7",
   "metadata": {},
   "outputs": [],
   "source": [
    "from flask import Flask, render_template, request\n",
    "import joblib\n",
    "import numpy as np\n",
    "\n",
    "app = Flask(__name__)\n",
    "\n",
    "# Load the trained model\n",
    "model = joblib.load('fake_currency_model.pkl')\n",
    "\n",
    "@app.route('/')\n",
    "def home():\n",
    "    return render_template('index.html')\n",
    "\n",
    "@app.route('/predict', methods=['POST'])\n",
    "def predict():\n",
    "    try:\n",
    "        # Get input values from the form\n",
    "        width = float(request.form['width'])\n",
    "        height = float(request.form['height'])\n",
    "\n",
    "        # Prepare input for the model\n",
    "        input_features = np.array([[width, height]])\n",
    "\n",
    "        # Predict\n",
    "        prediction = model.predict(input_features)[0]\n",
    "\n",
    "        # Convert prediction to meaningful output\n",
    "        result = \"Fake Currency\" if prediction == 1 else \"Original Currency\"\n",
    "\n",
    "        return render_template('index.html', prediction_text=f\"The bill is: {result}\")\n",
    "\n",
    "    except:\n",
    "        return render_template('index.html', prediction_text=\"Error: Invalid input!\")\n",
    "\n",
    "if __name__ == '__main__':\n",
    "    app.run(debug=True)\n"
   ]
  }
 ],
 "metadata": {
  "kernelspec": {
   "display_name": "Python [conda env:base] *",
   "language": "python",
   "name": "conda-base-py"
  },
  "language_info": {
   "codemirror_mode": {
    "name": "ipython",
    "version": 3
   },
   "file_extension": ".py",
   "mimetype": "text/x-python",
   "name": "python",
   "nbconvert_exporter": "python",
   "pygments_lexer": "ipython3",
   "version": "3.12.7"
  }
 },
 "nbformat": 4,
 "nbformat_minor": 5
}
